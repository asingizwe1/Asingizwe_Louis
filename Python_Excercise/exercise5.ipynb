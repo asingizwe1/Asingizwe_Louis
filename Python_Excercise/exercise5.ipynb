{
 "cells": [
  {
   "cell_type": "code",
   "execution_count": 1,
   "id": "899f377c-12d3-48cd-bbd1-249da58dde99",
   "metadata": {},
   "outputs": [
    {
     "name": "stdout",
     "output_type": "stream",
     "text": [
      "Shoe size: 40\n"
     ]
    }
   ],
   "source": [
    "Shoes = {\n",
    "    \"brand\": \"Nick\",\n",
    "    \"color\": \"black\",\n",
    "    \"size\": 40\n",
    "}\n",
    "\n",
    "# Print the value of \"size\"\n",
    "print(\"Shoe size:\", Shoes[\"size\"])"
   ]
  },
  {
   "cell_type": "code",
   "execution_count": 2,
   "id": "359159a0-68eb-47fe-a1b4-8f955c82c623",
   "metadata": {},
   "outputs": [
    {
     "name": "stdout",
     "output_type": "stream",
     "text": [
      "Updated Shoes dictionary: {'brand': 'Adidas', 'color': 'black', 'size': 40}\n"
     ]
    }
   ],
   "source": [
    "Shoes = {\n",
    "    \"brand\": \"Nick\",\n",
    "    \"color\": \"black\",\n",
    "    \"size\": 40\n",
    "}\n",
    "\n",
    "# Update the value of \"brand\" to \"Adidas\"\n",
    "Shoes[\"brand\"] = \"Adidas\"\n",
    "\n",
    "# Print the updated dictionary\n",
    "print(\"Updated Shoes dictionary:\", Shoes)"
   ]
  },
  {
   "cell_type": "code",
   "execution_count": 3,
   "id": "6a0eac8e-74a2-48b2-a80f-8d50594a2f86",
   "metadata": {},
   "outputs": [
    {
     "name": "stdout",
     "output_type": "stream",
     "text": [
      "Updated Shoes dictionary: {'brand': 'Adidas', 'color': 'black', 'size': 40, 'type': 'sneakers'}\n"
     ]
    }
   ],
   "source": [
    "Shoes = {\n",
    "    \"brand\": \"Adidas\",  \n",
    "    \"color\": \"black\",\n",
    "    \"size\": 40\n",
    "}\n",
    "\n",
    "# Add the new key-value pair\n",
    "Shoes[\"type\"] = \"sneakers\"\n",
    "\n",
    "# Print the updated dictionary\n",
    "print(\"Updated Shoes dictionary:\", Shoes)"
   ]
  },
  {
   "cell_type": "code",
   "execution_count": 4,
   "id": "84c823c7-65b8-4d1d-8fcd-c438206a77fa",
   "metadata": {},
   "outputs": [
    {
     "name": "stdout",
     "output_type": "stream",
     "text": [
      "List of keys: ['brand', 'color', 'size', 'type']\n"
     ]
    }
   ],
   "source": [
    "Shoes = {\n",
    "    \"brand\": \"Adidas\",\n",
    "    \"color\": \"black\",\n",
    "    \"size\": 40,\n",
    "    \"type\": \"sneakers\"\n",
    "}\n",
    "\n",
    "# Get all keys as a list using key() method\n",
    "keys_list = list(Shoes.keys())\n",
    "\n",
    "# Print the result\n",
    "print(\"List of keys:\", keys_list)"
   ]
  },
  {
   "cell_type": "code",
   "execution_count": 7,
   "id": "ccb726aa-482d-4336-bf52-905d88577c64",
   "metadata": {},
   "outputs": [
    {
     "name": "stdout",
     "output_type": "stream",
     "text": [
      "List of values: ['Adidas', 'black', 40, 'sneakers']\n"
     ]
    }
   ],
   "source": [
    "Shoes = {\n",
    "    \"brand\": \"Adidas\",\n",
    "    \"color\": \"black\",\n",
    "    \"size\": 40,\n",
    "    \"type\": \"sneakers\"\n",
    "}\n",
    "\n",
    "# Get all keys as a list using values() method\n",
    "values_list = list(Shoes.values())\n",
    "\n",
    "# Print the result\n",
    "print(\"List of values:\", values_list)"
   ]
  },
  {
   "cell_type": "code",
   "execution_count": 8,
   "id": "1fc45aab-bf19-4104-99ea-e10ec90cbf4d",
   "metadata": {},
   "outputs": [
    {
     "name": "stdout",
     "output_type": "stream",
     "text": [
      "Key 'size' exists! Value: 40\n"
     ]
    }
   ],
   "source": [
    "Shoes = {\n",
    "    \"brand\": \"Adidas\",\n",
    "    \"color\": \"black\",\n",
    "    \"size\": 40,\n",
    "    \"type\": \"sneakers\"\n",
    "}\n",
    "\n",
    "# Check if \"size\" is a key in the dictionary\n",
    "if \"size\" in Shoes:\n",
    "    print(\"Key 'size' exists! Value:\", Shoes[\"size\"])\n",
    "else:\n",
    "    print(\"Key 'size' does NOT exist.\")\n"
   ]
  },
  {
   "cell_type": "code",
   "execution_count": 11,
   "id": "8c838384-27b4-4843-a773-b0bb5ef6d045",
   "metadata": {},
   "outputs": [
    {
     "name": "stdout",
     "output_type": "stream",
     "text": [
      "Loop through keys:\n",
      "brand\n",
      "color\n",
      "size\n",
      "type\n"
     ]
    }
   ],
   "source": [
    "Shoes = {\n",
    "    \"brand\": \"Adidas\",\n",
    "    \"color\": \"black\",\n",
    "    \"size\": 40,\n",
    "    \"type\": \"sneakers\"\n",
    "}\n",
    "\n",
    "# Loop through keys\n",
    "print(\"Loop through keys:\")\n",
    "for key in Shoes:\n",
    "    print(key)\n"
   ]
  },
  {
   "cell_type": "code",
   "execution_count": 12,
   "id": "20499723-ff81-4010-89ec-eb193bdbea3a",
   "metadata": {},
   "outputs": [
    {
     "name": "stdout",
     "output_type": "stream",
     "text": [
      "Updated dictionary: {'brand': 'Adidas', 'size': 40, 'type': 'sneakers'}\n"
     ]
    }
   ],
   "source": [
    "Shoes = {\n",
    "    \"brand\": \"Adidas\",\n",
    "    \"color\": \"black\",\n",
    "    \"size\": 40,\n",
    "    \"type\": \"sneakers\"\n",
    "}\n",
    "\n",
    "# Remove 'color' key\n",
    "del Shoes[\"color\"]\n",
    "\n",
    "print(\"Updated dictionary:\", Shoes)"
   ]
  },
  {
   "cell_type": "code",
   "execution_count": 13,
   "id": "0a581399-bbea-4501-9ee0-085aaf703e04",
   "metadata": {},
   "outputs": [
    {
     "name": "stdout",
     "output_type": "stream",
     "text": [
      "Empty dictionary: {}\n"
     ]
    }
   ],
   "source": [
    "Shoes = {\n",
    "    \"brand\": \"Adidas\",\n",
    "    \"color\": \"black\",\n",
    "    \"size\": 40,\n",
    "    \"type\": \"sneakers\"\n",
    "}\n",
    "\n",
    "# Empty the dictionary using clear()\n",
    "Shoes.clear()\n",
    "\n",
    "print(\"Empty dictionary:\", Shoes)  "
   ]
  },
  {
   "cell_type": "code",
   "execution_count": 15,
   "id": "c4e2330a-cea1-4c43-bc97-529354bab749",
   "metadata": {},
   "outputs": [
    {
     "name": "stdout",
     "output_type": "stream",
     "text": [
      "Original: {'name': 'Mus', 'age': 28, 'city': 'kampala'}\n",
      "Copy (modified age): {'name': 'Mus', 'age': 30, 'city': 'kampala'}\n"
     ]
    }
   ],
   "source": [
    "# Original dictionary\n",
    "my_dict = {\n",
    "    \"name\": \"Mus\",\n",
    "    \"age\": 28,\n",
    "    \"city\": \"kampala\"\n",
    "}\n",
    "\n",
    "# Method 1: Shallow copy using .copy()\n",
    "dict_copy = my_dict.copy()\n",
    "\n",
    "# Modify the copy to prove independence\n",
    "dict_copy[\"age\"] = 30\n",
    "\n",
    "print(\"Original:\", my_dict)\n",
    "print(\"Copy (modified age):\", dict_copy)"
   ]
  },
  {
   "cell_type": "code",
   "execution_count": 16,
   "id": "f76b0adf-0b63-4a2d-8c3e-775162c5b9bb",
   "metadata": {},
   "outputs": [
    {
     "name": "stdout",
     "output_type": "stream",
     "text": [
      "Student2's name: Bbosa\n",
      "Student1's courses: ['Math', 'Physics']\n",
      "\n",
      "Full nested dictionary:\n",
      "\n",
      "student1:\n",
      "  name: Mus\n",
      "  age: 20\n",
      "  courses: ['Math', 'Physics']\n",
      "\n",
      "student2:\n",
      "  name: Bbosa\n",
      "  age: 22\n",
      "  courses: ['Biology', 'Chemistry']\n",
      "\n",
      "student3:\n",
      "  name: Stef\n",
      "  age: 23\n",
      "  courses: ['History', 'Literature']\n",
      "\n",
      "student4:\n",
      "  name: Kim\n",
      "  age: 19\n",
      "  courses: ['Art', 'Music']\n"
     ]
    }
   ],
   "source": [
    "# Create a nested dictionary\n",
    "students = {\n",
    "    \"student1\": {\n",
    "        \"name\": \"Mus\",\n",
    "        \"age\": 20,\n",
    "        \"courses\": [\"Math\", \"Physics\"]\n",
    "    },\n",
    "    \"student2\": {\n",
    "        \"name\": \"Bbosa\",\n",
    "        \"age\": 22,\n",
    "        \"courses\": [\"Biology\", \"Chemistry\"]\n",
    "    },\n",
    "    \"student3\": {\n",
    "        \"name\": \"Stef\",\n",
    "        \"age\": 21,\n",
    "        \"courses\": [\"History\", \"Literature\"]\n",
    "    }\n",
    "}\n",
    "\n",
    "# Access nested data\n",
    "print(\"Student2's name:\", students[\"student2\"][\"name\"])  # Output: Bbosa\n",
    "print(\"Student1's courses:\", students[\"student1\"][\"courses\"])  # Output: ['Math', 'Physics']\n",
    "\n",
    "# Modify nested data\n",
    "students[\"student3\"][\"age\"] = 23  # Update Stef's age\n",
    "\n",
    "# Add a new nested entry\n",
    "students[\"student4\"] = {\n",
    "    \"name\": \"Kim\",\n",
    "    \"age\": 19,\n",
    "    \"courses\": [\"Art\", \"Music\"]\n",
    "}\n",
    "\n",
    "# Print all students\n",
    "print(\"\\nFull nested dictionary:\")\n",
    "for student_id, details in students.items():\n",
    "    print(f\"\\n{student_id}:\")\n",
    "    for key, value in details.items():\n",
    "        print(f\"  {key}: {value}\")"
   ]
  }
 ],
 "metadata": {
  "kernelspec": {
   "display_name": "Python 3 (ipykernel)",
   "language": "python",
   "name": "python3"
  },
  "language_info": {
   "codemirror_mode": {
    "name": "ipython",
    "version": 3
   },
   "file_extension": ".py",
   "mimetype": "text/x-python",
   "name": "python",
   "nbconvert_exporter": "python",
   "pygments_lexer": "ipython3",
   "version": "3.12.7"
  }
 },
 "nbformat": 4,
 "nbformat_minor": 5
}
