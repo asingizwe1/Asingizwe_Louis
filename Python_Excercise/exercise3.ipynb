{
 "cells": [
  {
   "cell_type": "code",
   "execution_count": 2,
   "id": "934aa385-5919-48bf-b51e-62fe740082e5",
   "metadata": {},
   "outputs": [
    {
     "name": "stdout",
     "output_type": "stream",
     "text": [
      "{'tea', 'hibscus-juice', 'milk'}\n",
      "{'tea', 'hibscus-juice', 'milk'}\n"
     ]
    }
   ],
   "source": [
    "beverages = {\"hibscus-juice\", \"milk\", \"tea\"}  # Shorthand method\n",
    "print(beverages)\n",
    "#0r \n",
    "beverages = set((\"hibscus-juice\", \"milk\", \"tea\"))  # Using double parentheses for a tuple input\n",
    "print(beverages)"
   ]
  },
  {
   "cell_type": "code",
   "execution_count": 3,
   "id": "5eb04fe4-1b4e-4c38-bf7a-e91fc8c3b6b4",
   "metadata": {},
   "outputs": [
    {
     "name": "stdout",
     "output_type": "stream",
     "text": [
      "{'milk', 'tea', 'smoothie', 'hibscus-juice', 'water'}\n"
     ]
    }
   ],
   "source": [
    "beverages = {\"hibscus-juice\", \"milk\", \"tea\"}\n",
    "beverages.update([\"water\", \"smoothie\"])  # Takes an iterable (list, tuple, etc.)\n",
    "\n",
    "print(beverages)"
   ]
  },
  {
   "cell_type": "code",
   "execution_count": 4,
   "id": "f0bc2f9f-7d4e-42bb-9aff-0b4818963ddb",
   "metadata": {},
   "outputs": [
    {
     "name": "stdout",
     "output_type": "stream",
     "text": [
      "Yes, 'microwave' is in the set!\n"
     ]
    }
   ],
   "source": [
    "mySet = {\"oven\", \"kettle\", \"microwave\", \"refrigerator\"}\n",
    "\n",
    "# Check if \"microwave\" is in the set\n",
    "if \"microwave\" in mySet:\n",
    "    print(\"Yes, 'microwave' is in the set!\")\n",
    "else:\n",
    "    print(\"No, 'microwave' is not in the set.\")"
   ]
  },
  {
   "cell_type": "code",
   "execution_count": 5,
   "id": "2566e21e-3d28-46b4-8d04-bbe057a2cc66",
   "metadata": {},
   "outputs": [
    {
     "name": "stdout",
     "output_type": "stream",
     "text": [
      "{'microwave', 'refrigerator', 'oven'}\n"
     ]
    }
   ],
   "source": [
    "mySet = {\"oven\", \"kettle\", \"microwave\", \"refrigerator\"}\n",
    "mySet.remove(\"kettle\")  # Removes \"kettle\"; raises KeyError if not found\n",
    "\n",
    "print(mySet)"
   ]
  },
  {
   "cell_type": "code",
   "execution_count": 6,
   "id": "e48c0c5f-1c25-4f9e-85b0-3072e635ebc6",
   "metadata": {},
   "outputs": [
    {
     "name": "stdout",
     "output_type": "stream",
     "text": [
      "microwave\n",
      "refrigerator\n",
      "oven\n"
     ]
    }
   ],
   "source": [
    "mySet = {\"oven\", \"microwave\", \"refrigerator\"}\n",
    "\n",
    "# Loop through each item in the set\n",
    "for item in mySet:\n",
    "    print(item)\n",
    "    "
   ]
  },
  {
   "cell_type": "code",
   "execution_count": 7,
   "id": "f41b9ac6-8604-40b4-8465-3e87d1e2b55c",
   "metadata": {},
   "outputs": [
    {
     "name": "stdout",
     "output_type": "stream",
     "text": [
      "Updated Set: {'grape', 'orange', 'kiwi', 'pear', 'banana', 'apple'}\n"
     ]
    }
   ],
   "source": [
    "# Define a set and a list\n",
    "my_set = {\"apple\", \"banana\", \"orange\", \"grape\"}\n",
    "my_list = [\"pear\", \"kiwi\"]\n",
    "\n",
    "# Add elements from the list to the set\n",
    "my_set.update(my_list)\n",
    "\n",
    "# Print the updated set\n",
    "print(\"Updated Set:\", my_set)"
   ]
  },
  {
   "cell_type": "code",
   "execution_count": 10,
   "id": "72954714-0d8d-449a-a320-c5ec176d6468",
   "metadata": {},
   "outputs": [
    {
     "name": "stdout",
     "output_type": "stream",
     "text": [
      "Combined Set: {'Bob', 22, 25, 'Charlie', 30, 'Alice'}\n"
     ]
    }
   ],
   "source": [
    "ages = {25, 30, 22}          # Set of ages\n",
    "first_names = {\"Alice\", \"Bob\", \"Charlie\"}  # Set of names\n",
    "\n",
    "# Method 1: Union (combines unique elements)\n",
    "combined_set = first_names.union(ages)  # or: combined_set = ages | first_names\n",
    "\n",
    "print(\"Combined Set:\", combined_set)"
   ]
  }
 ],
 "metadata": {
  "kernelspec": {
   "display_name": "Python 3 (ipykernel)",
   "language": "python",
   "name": "python3"
  },
  "language_info": {
   "codemirror_mode": {
    "name": "ipython",
    "version": 3
   },
   "file_extension": ".py",
   "mimetype": "text/x-python",
   "name": "python",
   "nbconvert_exporter": "python",
   "pygments_lexer": "ipython3",
   "version": "3.12.7"
  }
 },
 "nbformat": 4,
 "nbformat_minor": 5
}
