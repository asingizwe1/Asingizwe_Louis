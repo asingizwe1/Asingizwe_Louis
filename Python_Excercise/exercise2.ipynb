{
 "cells": [
  {
   "cell_type": "code",
   "execution_count": 9,
   "id": "e0590283-f721-4103-bc2b-45c0ab153f2f",
   "metadata": {},
   "outputs": [
    {
     "name": "stdout",
     "output_type": "stream",
     "text": [
      "My favorite phone brand is: samsung\n"
     ]
    }
   ],
   "source": [
    "# Given tuple of phone brands\n",
    "phone_brands = (\"samsung\", \"iphone\", \"tecno\", \"redmi\")\n",
    "\n",
    "# My favorite brand \n",
    "favorite = \"samsung\"\n",
    "\n",
    "# Check if favorite is in the tuple and print it\n",
    "if favorite in phone_brands:\n",
    "    print(f\"My favorite phone brand is: {favorite}\")\n",
    "else:\n",
    "    print(f\"{favorite} is not in our list of brands\")"
   ]
  },
  {
   "cell_type": "code",
   "execution_count": 10,
   "id": "d758094b-8b72-471c-a650-5ee36e52e53f",
   "metadata": {},
   "outputs": [
    {
     "name": "stdout",
     "output_type": "stream",
     "text": [
      "The second last phone brand is: tecno\n"
     ]
    }
   ],
   "source": [
    "# Given tuple\n",
    "phone_brands = (\"samsung\", \"iphone\", \"tecno\", \"redmi\")\n",
    "\n",
    "# Using negative indexing (-2 refers to the second last item)\n",
    "second_last = phone_brands[-2]\n",
    "\n",
    "print(\"The second last phone brand is:\", second_last)"
   ]
  },
  {
   "cell_type": "code",
   "execution_count": 11,
   "id": "131f6427-251f-4336-8574-dcb5256dd326",
   "metadata": {},
   "outputs": [
    {
     "name": "stdout",
     "output_type": "stream",
     "text": [
      "Updated phones tuple: ('samsung', 'itel', 'tecno', 'redmi')\n"
     ]
    }
   ],
   "source": [
    "phones = (\"samsung\", \"iphone\", \"tecno\", \"redmi\")  # Original tuple\n",
    "\n",
    "# Convert to list (since lists are mutable)\n",
    "phones_list = list(phones)  \n",
    "\n",
    "# Update \"iphone\" to \"itel\"\n",
    "phones_list[1] = \"itel\"  \n",
    "\n",
    "# Convert back to tuple\n",
    "updated_phones = tuple(phones_list)  \n",
    "\n",
    "print(\"Updated phones tuple:\", updated_phones)"
   ]
  },
  {
   "cell_type": "code",
   "execution_count": 12,
   "id": "1768d779-4d37-4f18-88a1-0972aa5539ee",
   "metadata": {},
   "outputs": [
    {
     "name": "stdout",
     "output_type": "stream",
     "text": [
      "Updated tuple: ('samsung', 'iphone', 'tecno', 'redmi', 'Huawei')\n"
     ]
    }
   ],
   "source": [
    "# Original tuple\n",
    "phones = (\"samsung\", \"iphone\", \"tecno\", \"redmi\")\n",
    "\n",
    "# Add \"Huawei\" by creating a new tuple\n",
    "updated_phones = phones + (\"Huawei\",)  # Note the comma for single-item tuple\n",
    "\n",
    "print(\"Updated tuple:\", updated_phones)"
   ]
  },
  {
   "cell_type": "code",
   "execution_count": 13,
   "id": "034b4986-7324-4523-ae7e-5e8078155b77",
   "metadata": {},
   "outputs": [
    {
     "name": "stdout",
     "output_type": "stream",
     "text": [
      "Phone brands:\n",
      "samsung\n",
      "iphone\n",
      "tecno\n",
      "redmi\n"
     ]
    }
   ],
   "source": [
    "phones = (\"samsung\", \"iphone\", \"tecno\", \"redmi\")\n",
    "\n",
    "print(\"Phone brands:\")\n",
    "for phone in phones:\n",
    "    print(phone)"
   ]
  },
  {
   "cell_type": "code",
   "execution_count": 14,
   "id": "3d605190-32bf-4785-9997-4109be106543",
   "metadata": {},
   "outputs": [
    {
     "name": "stdout",
     "output_type": "stream",
     "text": [
      "Original tuple: ('samsung', 'iphone', 'tecno', 'redmi')\n",
      "Updated tuple (without first item): ('iphone', 'tecno', 'redmi')\n"
     ]
    }
   ],
   "source": [
    "phones = (\"samsung\", \"iphone\", \"tecno\", \"redmi\")\n",
    "\n",
    "# Remove the first item by slicing from index 1 onward\n",
    "updated_phones = phones[1:]\n",
    "\n",
    "print(\"Original tuple:\", phones)\n",
    "print(\"Updated tuple (without first item):\", updated_phones)"
   ]
  },
  {
   "cell_type": "code",
   "execution_count": 15,
   "id": "12958bbc-d5df-49c5-a156-2eb4b77a9ba7",
   "metadata": {},
   "outputs": [
    {
     "name": "stdout",
     "output_type": "stream",
     "text": [
      "Cities in Uganda: ('Kampala', 'Entebbe', 'Jinja', 'Mbarara', 'Gulu', 'Mbale', 'Fort Portal')\n"
     ]
    }
   ],
   "source": [
    "# Create a tuple of Ugandan cities using the tuple() constructor\n",
    "uganda_cities = tuple([\"Kampala\", \"Entebbe\", \"Jinja\", \"Mbarara\", \"Gulu\", \"Mbale\", \"Fort Portal\"])\n",
    "\n",
    "# Print the tuple\n",
    "print(\"Cities in Uganda:\", uganda_cities)"
   ]
  },
  {
   "cell_type": "code",
   "execution_count": 16,
   "id": "798461d7-ec19-424b-abfe-5e6bf6cc7452",
   "metadata": {},
   "outputs": [
    {
     "name": "stdout",
     "output_type": "stream",
     "text": [
      "Unpacked cities:\n",
      "City 1: Kampala\n",
      "City 2: Entebbe\n",
      "City 3: Jinja\n",
      "City 4: Mbarara\n",
      "City 5: Gulu\n"
     ]
    }
   ],
   "source": [
    "# Tuple of Ugandan cities\n",
    "uganda_cities = (\"Kampala\", \"Entebbe\", \"Jinja\", \"Mbarara\", \"Gulu\")\n",
    "\n",
    "# Unpacking the tuple into separate variables\n",
    "city1, city2, city3, city4, city5 = uganda_cities\n",
    "\n",
    "# Printing the unpacked values\n",
    "print(\"Unpacked cities:\")\n",
    "print(\"City 1:\", city1)\n",
    "print(\"City 2:\", city2)\n",
    "print(\"City 3:\", city3)\n",
    "print(\"City 4:\", city4)\n",
    "print(\"City 5:\", city5)"
   ]
  },
  {
   "cell_type": "code",
   "execution_count": 17,
   "id": "0187e564-1828-47e9-9d90-0186a842ab66",
   "metadata": {},
   "outputs": [
    {
     "name": "stdout",
     "output_type": "stream",
     "text": [
      "Selected cities: ('Entebbe', 'Jinja', 'Mbarara')\n"
     ]
    }
   ],
   "source": [
    "# Tuple of Ugandan cities\n",
    "uganda_cities = (\"Kampala\", \"Entebbe\", \"Jinja\", \"Mbarara\", \"Gulu\", \"Mbale\", \"Fort Portal\")\n",
    "\n",
    "# Print 2nd, 3rd and 4th cities (indexes 1, 2, 3)\n",
    "print(\"Selected cities:\", uganda_cities[1:4])"
   ]
  },
  {
   "cell_type": "code",
   "execution_count": 27,
   "id": "73f18118-1abb-41f6-8402-1444d8991de2",
   "metadata": {},
   "outputs": [
    {
     "name": "stdout",
     "output_type": "stream",
     "text": [
      "Aloysious Mutagubya\n"
     ]
    }
   ],
   "source": [
    "# Tuples containing first names and second names\n",
    "first_name = ('Aloysious ')\n",
    "second_name = ('Mutagubya')\n",
    "\n",
    "# Joining the two tuples\n",
    "Full_name = first_name + second_name\n",
    "\n",
    "print(Full_name)"
   ]
  },
  {
   "cell_type": "code",
   "execution_count": 28,
   "id": "0991ae34-0532-43d7-aaec-8d6a884588a3",
   "metadata": {},
   "outputs": [
    {
     "name": "stdout",
     "output_type": "stream",
     "text": [
      "('red', 'green', 'blue', 'red', 'green', 'blue', 'red', 'green', 'blue')\n"
     ]
    }
   ],
   "source": [
    "colors = (\"red\", \"green\", \"blue\")  \n",
    "multiplied_colors = colors * 3  \n",
    "\n",
    "print(multiplied_colors)  "
   ]
  },
  {
   "cell_type": "code",
   "execution_count": 35,
   "id": "d80e0487-2a59-4f7a-ae5c-5bc6fc49c6e7",
   "metadata": {},
   "outputs": [
    {
     "name": "stdout",
     "output_type": "stream",
     "text": [
      "8 appears 2 times\n"
     ]
    }
   ],
   "source": [
    "thistuple = (1, 3, 7, 8, 7, 5, 4, 6, 8, 5)\n",
    "count_8 = thistuple.count(8)\n",
    "\n",
    "print(\"8 appears\",count_8 ,\"times\")  "
   ]
  }
 ],
 "metadata": {
  "kernelspec": {
   "display_name": "Python 3 (ipykernel)",
   "language": "python",
   "name": "python3"
  },
  "language_info": {
   "codemirror_mode": {
    "name": "ipython",
    "version": 3
   },
   "file_extension": ".py",
   "mimetype": "text/x-python",
   "name": "python",
   "nbconvert_exporter": "python",
   "pygments_lexer": "ipython3",
   "version": "3.12.7"
  }
 },
 "nbformat": 4,
 "nbformat_minor": 5
}
