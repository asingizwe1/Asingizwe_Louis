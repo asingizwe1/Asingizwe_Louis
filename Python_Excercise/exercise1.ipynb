{
 "cells": [
  {
   "cell_type": "code",
   "execution_count": 1,
   "id": "7326874d-5d63-414f-801d-9a49031e463a",
   "metadata": {},
   "outputs": [
    {
     "name": "stdout",
     "output_type": "stream",
     "text": [
      "hello Mus\n"
     ]
    }
   ],
   "source": [
    "print(\"hello Mus\")"
   ]
  },
  {
   "cell_type": "code",
   "execution_count": 1,
   "id": "8f46aa0f-6a35-4518-80de-670cb5e11d58",
   "metadata": {},
   "outputs": [
    {
     "name": "stdout",
     "output_type": "stream",
     "text": [
      "The second item in the list is: Mus\n"
     ]
    }
   ],
   "source": [
    "#a list with 5 names\n",
    "names = [\"Stef\", \"Mus\", \"Chloe\", \"Mark\", \"Mike\"]\n",
    "\n",
    "# Output the 2nd item \n",
    "print(\"The second item in the list is:\", names[1])"
   ]
  },
  {
   "cell_type": "markdown",
   "id": "98665b0b-abed-4637-9abb-cdea1900d529",
   "metadata": {},
   "source": [
    "# Original list\n",
    "names = [\"Stef\", \"Mus\", \"Chloe\", \"Mark\", \"Mike\"]\n",
    "\n",
    "# Change the first item (index 0) to a new value\n",
    "names[0] = \"Mutooro\"\n",
    "\n",
    "# Print the updated list\n",
    "print(\"Updated list:\", names)"
   ]
  },
  {
   "cell_type": "code",
   "execution_count": 5,
   "id": "4f1c1060-914f-4df2-8f4b-d22eff897f69",
   "metadata": {},
   "outputs": [
    {
     "name": "stdout",
     "output_type": "stream",
     "text": [
      "Updated list: ['Stef', 'Mus', 'Chloe', 'Mark', 'Mike', 'Bbosa']\n"
     ]
    }
   ],
   "source": [
    "# Original list\n",
    "names = [\"Stef\", \"Mus\", \"Chloe\", \"Mark\", \"Mike\"]\n",
    "\n",
    "# Add sixth item\n",
    "names.append(\"Bbosa\")\n",
    "\n",
    "# Print the updated list\n",
    "print(\"Updated list:\", names)"
   ]
  },
  {
   "cell_type": "code",
   "execution_count": 7,
   "id": "48c49cda-0496-424a-b76b-d3c62626c96e",
   "metadata": {},
   "outputs": [
    {
     "name": "stdout",
     "output_type": "stream",
     "text": [
      "Updated list: ['Stef', 'Mus', 'Bathel', 'Chloe', 'Mark', 'Mike']\n"
     ]
    }
   ],
   "source": [
    "# Original list\n",
    "names = [\"Stef\", \"Mus\", \"Chloe\", \"Mark\", \"Mike\"]\n",
    "\n",
    "# Add as the 3rd item\n",
    "names.insert(2, \"Bathel\")\n",
    "\n",
    "# Print the updated list\n",
    "print(\"Updated list:\", names)"
   ]
  },
  {
   "cell_type": "code",
   "execution_count": 8,
   "id": "9292b56a-cdff-4d50-86c4-0f1c38c029e9",
   "metadata": {},
   "outputs": [
    {
     "name": "stdout",
     "output_type": "stream",
     "text": [
      "Updated list: ['Stef', 'Mus', 'Bathel', 'Mark', 'Mike']\n",
      "removed item: Chloe\n"
     ]
    }
   ],
   "source": [
    "# Original list\n",
    "names =['Stef', 'Mus', 'Bathel', 'Chloe', 'Mark', 'Mike']\n",
    "\n",
    "# remove the 4th item\n",
    "remove_item = names.pop(3)\n",
    "\n",
    "# Print the updated list\n",
    "print(\"Updated list:\", names)\n",
    "print(\"removed item:\", remove_item )"
   ]
  },
  {
   "cell_type": "code",
   "execution_count": 9,
   "id": "507e784e-2b56-40ff-82c4-2b49bc13ac68",
   "metadata": {},
   "outputs": [
    {
     "name": "stdout",
     "output_type": "stream",
     "text": [
      "The last item in the list is: Mike\n"
     ]
    }
   ],
   "source": [
    "# Original list\n",
    "names =['Stef', 'Mus', 'Bathel', 'Chloe', 'Mark', 'Mike']\n",
    "\n",
    "#use negative index to print the last item\n",
    "print(\"The last item in the list is:\", names[-1])"
   ]
  },
  {
   "cell_type": "code",
   "execution_count": 11,
   "id": "05d437ee-aa41-4b80-a5bb-975382437d4c",
   "metadata": {},
   "outputs": [
    {
     "name": "stdout",
     "output_type": "stream",
     "text": [
      "3rd, 4th, and 5th items: ['pineapple', 'kiwi', 'mango']\n"
     ]
    }
   ],
   "source": [
    "# Create a list with 7 items\n",
    "items = [\"Apple\", \"Banana\", \"pineapple\", \"kiwi\", \"mango\", \"cocoa\", \"Grape\"]\n",
    "\n",
    "# Print the 3rd, 4th, and 5th items (indices 2, 3, 4)\n",
    "print(\"3rd, 4th, and 5th items:\", items[2:5])"
   ]
  },
  {
   "cell_type": "code",
   "execution_count": 13,
   "id": "efde7c6d-1a98-405c-aa03-a5e6e3a7c902",
   "metadata": {},
   "outputs": [
    {
     "name": "stdout",
     "output_type": "stream",
     "text": [
      "Copied list (updated): ['USA', 'Canada', 'Germany', 'Japan', 'Australia']\n"
     ]
    }
   ],
   "source": [
    "# Original list of countries\n",
    "countries = [\"USA\", \"Canada\", \"Germany\", \"Japan\", \"Australia\"]\n",
    "\n",
    "# Make a copy of the list (using .copy() method)\n",
    "countries_copy = countries.copy()\n",
    "\n",
    "print(\"Copied list (updated):\", countries_copy)"
   ]
  },
  {
   "cell_type": "code",
   "execution_count": 16,
   "id": "ea3426f0-5606-4a9b-a315-f6c99686f996",
   "metadata": {},
   "outputs": [
    {
     "name": "stdout",
     "output_type": "stream",
     "text": [
      "List of countries:\n",
      "USA\n",
      "Canada\n",
      "Germany\n",
      "Japan\n",
      "Australia\n"
     ]
    }
   ],
   "source": [
    "countries = [\"USA\", \"Canada\", \"Germany\", \"Japan\", \"Australia\"]\n",
    "\n",
    "print(\"List of countries:\")\n",
    "for country in countries:\n",
    "    print(country)"
   ]
  },
  {
   "cell_type": "code",
   "execution_count": 17,
   "id": "6c9d439d-c643-4bb5-95a3-18e529ee265e",
   "metadata": {},
   "outputs": [
    {
     "name": "stdout",
     "output_type": "stream",
     "text": [
      "Original list: ['Lion', 'Elephant', 'Tiger', 'Giraffe', 'Zebra', 'Monkey', 'Kangaroo']\n",
      "Ascending order: ['Elephant', 'Giraffe', 'Kangaroo', 'Lion', 'Monkey', 'Tiger', 'Zebra']\n",
      "Descending order: ['Zebra', 'Tiger', 'Monkey', 'Lion', 'Kangaroo', 'Giraffe', 'Elephant']\n"
     ]
    }
   ],
   "source": [
    "# List of animal names\n",
    "animals = [\"Lion\", \"Elephant\", \"Tiger\", \"Giraffe\", \"Zebra\", \"Monkey\", \"Kangaroo\"]\n",
    "\n",
    "# Sort in ascending order (A-Z)\n",
    "ascending_order = sorted(animals)  # or animals.sort() for in-place sorting\n",
    "\n",
    "# Sort in descending order (Z-A)\n",
    "descending_order = sorted(animals, reverse=True)  # or animals.sort(reverse=True)\n",
    "\n",
    "# Print results\n",
    "print(\"Original list:\", animals)\n",
    "print(\"Ascending order:\", ascending_order)\n",
    "print(\"Descending order:\", descending_order)"
   ]
  },
  {
   "cell_type": "code",
   "execution_count": 18,
   "id": "424947b9-6918-46c4-aec9-f7a64ae42d55",
   "metadata": {},
   "outputs": [
    {
     "name": "stdout",
     "output_type": "stream",
     "text": [
      "Animal names containing letter 'a': ['Elephant', 'Giraffe', 'Zebra', 'Kangaroo']\n"
     ]
    }
   ],
   "source": [
    "# List of animal names\n",
    "animals = [\"Lion\", \"Elephant\", \"Tiger\", \"Giraffe\", \"Zebra\", \"Monkey\", \"Kangaroo\"]\n",
    "\n",
    "# Filter animals with 'a' or 'A' in their names\n",
    "animals_with_a = [animal for animal in animals if 'a' in animal.lower()]\n",
    "\n",
    "# Print the result\n",
    "print(\"Animal names containing letter 'a':\", animals_with_a)"
   ]
  },
  {
   "cell_type": "code",
   "execution_count": 19,
   "id": "b8b497c2-5234-459c-bbb7-87ff06e9c464",
   "metadata": {},
   "outputs": [
    {
     "name": "stdout",
     "output_type": "stream",
     "text": [
      "First Names: ['Aloysious']\n",
      "Second Names: ['Mutagubya']\n",
      "Full Names: ['Aloysious Mutagubya']\n"
     ]
    }
   ],
   "source": [
    "# First names list\n",
    "first_names = [\"Aloysious\"]\n",
    "\n",
    "# Second names list\n",
    "second_names = [\"Mutagubya\"]\n",
    "\n",
    "# Join the two lists to create full names (using zip() and list comprehension)\n",
    "full_names = [f\"{first} {second}\" for first, second in zip(first_names, second_names)]\n",
    "\n",
    "# Print the results\n",
    "print(\"First Names:\", first_names)\n",
    "print(\"Second Names:\", second_names)\n",
    "print(\"Full Names:\", full_names)"
   ]
  }
 ],
 "metadata": {
  "kernelspec": {
   "display_name": "Python 3 (ipykernel)",
   "language": "python",
   "name": "python3"
  },
  "language_info": {
   "codemirror_mode": {
    "name": "ipython",
    "version": 3
   },
   "file_extension": ".py",
   "mimetype": "text/x-python",
   "name": "python",
   "nbconvert_exporter": "python",
   "pygments_lexer": "ipython3",
   "version": "3.12.7"
  }
 },
 "nbformat": 4,
 "nbformat_minor": 5
}
