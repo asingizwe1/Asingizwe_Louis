{
 "cells": [
  {
   "cell_type": "code",
   "execution_count": 1,
   "id": "7c5a863a-47b0-4021-8fb4-3c75a5065d4d",
   "metadata": {},
   "outputs": [
    {
     "name": "stdout",
     "output_type": "stream",
     "text": [
      "Mus is 23 years old.\n"
     ]
    }
   ],
   "source": [
    "# Declare variables\n",
    "age = 23          # Integer\n",
    "name = \"Mus\"    # String\n",
    "\n",
    "# Concatenate after converting the integer to a string\n",
    "result = name + \" is \" + str(age) + \" years old.\"\n",
    "\n",
    "print(result)"
   ]
  },
  {
   "cell_type": "code",
   "execution_count": 2,
   "id": "2d2b05fc-6db2-4377-96f2-9eca815fa0e3",
   "metadata": {},
   "outputs": [
    {
     "name": "stdout",
     "output_type": "stream",
     "text": [
      "Hello,Uganda!\n"
     ]
    }
   ],
   "source": [
    "txt = \"      Hello,       Uganda!       \"\n",
    "cleaned_txt = txt.replace(\" \", \"\")  # Replaces ALL spaces with nothing\n",
    "print(cleaned_txt)"
   ]
  },
  {
   "cell_type": "code",
   "execution_count": 4,
   "id": "e85dc6a2-ea91-48af-b7b2-d8968fad0489",
   "metadata": {},
   "outputs": [
    {
     "name": "stdout",
     "output_type": "stream",
     "text": [
      "Hello,Uganda!\n",
      "      HELLO,       UGANDA!       \n"
     ]
    }
   ],
   "source": [
    "txt = \"      Hello,       Uganda!       \"\n",
    "cleaned_txt = txt.replace(\" \", \"\")  # Replaces ALL spaces with nothing\n",
    "print(cleaned_txt)\n",
    "uppercase_txt = txt.upper()  # Converts all characters to uppercase\n",
    "print(uppercase_txt)"
   ]
  },
  {
   "cell_type": "code",
   "execution_count": 5,
   "id": "5b0059ab-f993-4042-8b96-ecb49f847b2e",
   "metadata": {},
   "outputs": [
    {
     "name": "stdout",
     "output_type": "stream",
     "text": [
      "      Hello,       Vganda!       \n"
     ]
    }
   ],
   "source": [
    "txt = \"      Hello,       Uganda!       \"\n",
    "# Replace 'U' with 'V' (case-sensitive)\n",
    "modified_txt = txt.replace(\"U\", \"V\")\n",
    "\n",
    "print(modified_txt)"
   ]
  },
  {
   "cell_type": "code",
   "execution_count": 6,
   "id": "b0e97004-3efa-46dd-a23a-1e2e4b3f078c",
   "metadata": {},
   "outputs": [
    {
     "name": "stdout",
     "output_type": "stream",
     "text": [
      " am\n"
     ]
    }
   ],
   "source": [
    "y = \"I am proudly Ugandan\"\n",
    "\n",
    "# Extract characters from index 1 (2nd position) to index 4 (5th position, exclusive)\n",
    "range_of_chars = y[1:4]  # Slicing from index 1 to 3 (4 is excluded)\n",
    "\n",
    "print(range_of_chars)"
   ]
  },
  {
   "cell_type": "code",
   "execution_count": 7,
   "id": "8b92bc44-ef06-480e-a053-190ebdc10e5c",
   "metadata": {},
   "outputs": [
    {
     "name": "stdout",
     "output_type": "stream",
     "text": [
      "All \"Data Scientists\" are cool!\n"
     ]
    }
   ],
   "source": [
    "x = 'All \"Data Scientists\" are cool!'\n",
    "print(x)"
   ]
  }
 ],
 "metadata": {
  "kernelspec": {
   "display_name": "Python 3 (ipykernel)",
   "language": "python",
   "name": "python3"
  },
  "language_info": {
   "codemirror_mode": {
    "name": "ipython",
    "version": 3
   },
   "file_extension": ".py",
   "mimetype": "text/x-python",
   "name": "python",
   "nbconvert_exporter": "python",
   "pygments_lexer": "ipython3",
   "version": "3.12.7"
  }
 },
 "nbformat": 4,
 "nbformat_minor": 5
}
